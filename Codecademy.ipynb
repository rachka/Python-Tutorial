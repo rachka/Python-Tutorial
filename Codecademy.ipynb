{
 "cells": [
  {
   "cell_type": "code",
   "execution_count": 1,
   "metadata": {
    "collapsed": false
   },
   "outputs": [
    {
     "name": "stdout",
     "output_type": "stream",
     "text": [
      "83.8666666667\n",
      "B\n"
     ]
    }
   ],
   "source": [
    "# class grading script example\n",
    "lloyd = {\n",
    "    \"name\": \"Lloyd\",\n",
    "    \"homework\": [90.0, 97.0, 75.0, 92.0],\n",
    "    \"quizzes\": [88.0, 40.0, 94.0],\n",
    "    \"tests\": [75.0, 90.0]\n",
    "}\n",
    "alice = {\n",
    "    \"name\": \"Alice\",\n",
    "    \"homework\": [100.0, 92.0, 98.0, 100.0],\n",
    "    \"quizzes\": [82.0, 83.0, 91.0],\n",
    "    \"tests\": [89.0, 97.0]\n",
    "}\n",
    "tyler = {\n",
    "    \"name\": \"Tyler\",\n",
    "    \"homework\": [0.0, 87.0, 75.0, 22.0],\n",
    "    \"quizzes\": [0.0, 75.0, 78.0],\n",
    "    \"tests\": [100.0, 100.0]\n",
    "}\n",
    "\n",
    "# Add your function below!\n",
    "def average(numbers):\n",
    "    total = sum(numbers)\n",
    "    total = float(total)\n",
    "    return total / len(numbers)\n",
    "\n",
    "def get_average(student):\n",
    "    homework = average(student[\"homework\"])\n",
    "    quizzes = average(student[\"quizzes\"])\n",
    "    tests = average(student[\"tests\"])\n",
    "    return (0.10 * homework + 0.30 * quizzes + 0.60 * tests)\n",
    "    \n",
    "def get_letter_grade(score):\n",
    "    if score >= 90:\n",
    "        return \"A\"\n",
    "    elif score >= 80:\n",
    "        return \"B\"\n",
    "    elif score >= 70:\n",
    "        return \"C\"\n",
    "    elif score >= 60:\n",
    "        return \"D\"\n",
    "    else:\n",
    "        return \"F\"\n",
    "\n",
    "def get_class_average(students):\n",
    "    results = []\n",
    "    for student in students:\n",
    "        results.append(get_average(student))\n",
    "    return average(results)\n",
    "\n",
    "students = [lloyd, alice, tyler]\n",
    "print get_class_average(students)\n",
    "print get_letter_grade(get_class_average(students))"
   ]
  },
  {
   "cell_type": "code",
   "execution_count": 2,
   "metadata": {
    "collapsed": false
   },
   "outputs": [
    {
     "name": "stdout",
     "output_type": "stream",
     "text": [
      "[1, 2, 3, 4, 5, 6, 7, 8, 9]\n"
     ]
    }
   ],
   "source": [
    "# Flattening out a list\n",
    "n = [[1, 2, 3], [4, 5, 6, 7, 8, 9]]\n",
    "# Add your function here\n",
    "def flatten(lists):\n",
    "    results = []\n",
    "    for i in range(len(lists)):\n",
    "        for j in range(len(lists[i])):\n",
    "            results.append(lists[i][j])\n",
    "    return results\n",
    "print flatten(n)"
   ]
  },
  {
   "cell_type": "code",
   "execution_count": 4,
   "metadata": {
    "collapsed": false
   },
   "outputs": [
    {
     "name": "stdout",
     "output_type": "stream",
     "text": [
      "Let's play Battleship!\n",
      "O O O O O\n",
      "O O O O O\n",
      "O O O O O\n",
      "O O O O O\n",
      "O O O O O\n",
      "\n",
      "Turn 1\n",
      "Guess Row:2\n",
      "Guess Col:3\n",
      "You missed my battleship!\n",
      "O O O O O\n",
      "O O O O O\n",
      "O O O X O\n",
      "O O O O O\n",
      "O O O O O\n",
      "\n",
      "Turn 2\n",
      "Guess Row:1\n",
      "Guess Col:4\n",
      "You missed my battleship!\n",
      "O O O O O\n",
      "O O O O X\n",
      "O O O X O\n",
      "O O O O O\n",
      "O O O O O\n",
      "\n",
      "Turn 3\n",
      "Guess Row:0\n",
      "Guess Col:4\n",
      "You missed my battleship!\n",
      "O O O O X\n",
      "O O O O X\n",
      "O O O X O\n",
      "O O O O O\n",
      "O O O O O\n",
      "\n",
      "Turn 4\n",
      "Guess Row:4\n",
      "Guess Col:2\n",
      "You missed my battleship!\n",
      "O O O O X\n",
      "O O O O X\n",
      "O O O X O\n",
      "O O O O O\n",
      "O O X O O\n",
      "Game Over\n"
     ]
    }
   ],
   "source": [
    "# Battleship Script\n",
    "-"
   ]
  },
  {
   "cell_type": "code",
   "execution_count": 8,
   "metadata": {
    "collapsed": false
   },
   "outputs": [
    {
     "name": "stdout",
     "output_type": "stream",
     "text": [
      "Your guess: 2\n",
      "Your guess: 3\n",
      "Your guess: 4\n",
      "You lose\n"
     ]
    }
   ],
   "source": [
    "from random import randint\n",
    "\n",
    "# Generates a number from 1 through 10 inclusive\n",
    "random_number = randint(1, 10)\n",
    "\n",
    "guesses_left = 3\n",
    "# Start your game!\n",
    "while guesses_left > 0:\n",
    "    guess = int(raw_input(\"Your guess: \"))\n",
    "    \n",
    "    if random_number == guess:\n",
    "        print 'You win'\n",
    "        break\n",
    "    guesses_left -= 1\n",
    "else:\n",
    "    print 'You lose'"
   ]
  },
  {
   "cell_type": "code",
   "execution_count": 9,
   "metadata": {
    "collapsed": false
   },
   "outputs": [
    {
     "name": "stdout",
     "output_type": "stream",
     "text": [
      "X   b i r d   i n   t h e   h X n d . . .\n"
     ]
    }
   ],
   "source": [
    "# replacing characters\n",
    "phrase = \"A bird in the hand...\"\n",
    "\n",
    "# Add your for loop\n",
    "for char in phrase:\n",
    "    if char == \"A\" or char == \"a\":\n",
    "        print 'X',\n",
    "    else: \n",
    "        print char,\n",
    "\n",
    "#Don't delete this print statement!\n",
    "print"
   ]
  },
  {
   "cell_type": "code",
   "execution_count": 10,
   "metadata": {
    "collapsed": false
   },
   "outputs": [
    {
     "name": "stdout",
     "output_type": "stream",
     "text": [
      "This list contains: \n",
      "7\n",
      "9\n",
      "12\n",
      "54\n",
      "99\n",
      "49\n",
      "81\n",
      "144\n",
      "2916\n",
      "9801\n"
     ]
    }
   ],
   "source": [
    "# another for loop\n",
    "numbers  = [7, 9, 12, 54, 99]\n",
    "\n",
    "print \"This list contains: \"\n",
    "\n",
    "for num in numbers:\n",
    "    print num\n",
    "\n",
    "# Add your loop below!\n",
    "for num in numbers:\n",
    "    print num ** 2"
   ]
  },
  {
   "cell_type": "code",
   "execution_count": 11,
   "metadata": {
    "collapsed": false
   },
   "outputs": [
    {
     "name": "stdout",
     "output_type": "stream",
     "text": [
      "a apple\n",
      "c cherry\n",
      "b berry\n"
     ]
    }
   ],
   "source": [
    "# Looping over a dictionary\n",
    "d = {'a': 'apple', 'b': 'berry', 'c': 'cherry'}\n",
    "\n",
    "for key in d:\n",
    "    # Your code here!\n",
    "    print key, d[key]"
   ]
  },
  {
   "cell_type": "code",
   "execution_count": 13,
   "metadata": {
    "collapsed": false
   },
   "outputs": [
    {
     "name": "stdout",
     "output_type": "stream",
     "text": [
      "Your choices are:\n",
      "1 pizza\n",
      "2 pasta\n",
      "3 salad\n",
      "4 nachos\n"
     ]
    }
   ],
   "source": [
    "# counting as you go via enumerate()\n",
    "choices = ['pizza', 'pasta', 'salad', 'nachos']\n",
    "\n",
    "print 'Your choices are:'\n",
    "for index, item in enumerate(choices):\n",
    "    print int(index) + 1, item"
   ]
  },
  {
   "cell_type": "code",
   "execution_count": 14,
   "metadata": {
    "collapsed": false
   },
   "outputs": [
    {
     "name": "stdout",
     "output_type": "stream",
     "text": [
      "3\n",
      "9\n",
      "17\n",
      "15\n",
      "30\n"
     ]
    }
   ],
   "source": [
    "# compare elements of two lists and pick out the larger value\n",
    "list_a = [3, 9, 17, 15, 19]\n",
    "list_b = [2, 4, 8, 10, 30, 40, 50, 60, 70, 80, 90]\n",
    "\n",
    "for a, b in zip(list_a, list_b):\n",
    "    if a > b:\n",
    "        print a\n",
    "    else:  \n",
    "        print b"
   ]
  },
  {
   "cell_type": "code",
   "execution_count": 15,
   "metadata": {
    "collapsed": false
   },
   "outputs": [
    {
     "name": "stdout",
     "output_type": "stream",
     "text": [
      "You have...\n",
      "A banana\n",
      "A apple\n",
      "A orange\n",
      "A tomato is not a fruit!\n"
     ]
    }
   ],
   "source": [
    "# break stops else from being executed (and the fruit after tomato)\n",
    "fruits = ['banana', 'apple', 'orange', 'tomato', 'pear', 'grape']\n",
    "\n",
    "print 'You have...'\n",
    "for f in fruits:\n",
    "    if f == 'tomato':\n",
    "        print 'A tomato is not a fruit!' # (It actually is.)\n",
    "        break\n",
    "    print 'A', f\n",
    "else:\n",
    "    print 'A fine selection of fruits!'"
   ]
  },
  {
   "cell_type": "code",
   "execution_count": 16,
   "metadata": {
    "collapsed": false
   },
   "outputs": [
    {
     "name": "stdout",
     "output_type": "stream",
     "text": [
      "Let's see. What do we have?...\n",
      "potatoes\n",
      "salad\n",
      "Ew, salad is too healthy! I'm outta here!\n"
     ]
    }
   ],
   "source": [
    "# another for/else example\n",
    "food = ['potatoes','salad','freedom fries']\n",
    "print 'Let\\'s see. What do we have?...'\n",
    "for i in food:\n",
    "    print i\n",
    "    if i == 'salad':\n",
    "        print \"Ew, salad is too healthy! I'm outta here!\"\n",
    "        break\n",
    "else:\n",
    "    print \"Oh what fine cuisine for a feast, I say.\""
   ]
  },
  {
   "cell_type": "code",
   "execution_count": 17,
   "metadata": {
    "collapsed": true
   },
   "outputs": [],
   "source": [
    "# Advanced Topics in Python"
   ]
  },
  {
   "cell_type": "code",
   "execution_count": 19,
   "metadata": {
    "collapsed": false
   },
   "outputs": [
    {
     "name": "stdout",
     "output_type": "stream",
     "text": [
      "[('Gender', 'Male'), ('Age', 56), ('Name', 'Guido')]\n",
      "['Gender', 'Age', 'Name']\n",
      "['Male', 56, 'Guido']\n",
      "Gender Male\n",
      "Age 56\n",
      "Name Guido\n"
     ]
    }
   ],
   "source": [
    "# dictionary iteration\n",
    "my_dict = {\n",
    "    \"Name\": \"Guido\",\n",
    "    \"Age\": 56,\n",
    "    \"Gender\": \"Male\"\n",
    "}\n",
    "print my_dict.items() # returns an array of tuples\n",
    "print my_dict.keys() # returns list of keys\n",
    "print my_dict.values() # returns list of values\n",
    "for key in my_dict:  # prints each key value pair separately neatly\n",
    "    print key, my_dict[key]"
   ]
  },
  {
   "cell_type": "code",
   "execution_count": 24,
   "metadata": {
    "collapsed": false
   },
   "outputs": [
    {
     "name": "stdout",
     "output_type": "stream",
     "text": [
      "[0, 2, 4, 6, 8, 10, 12, 14, 16, 18, 20, 22, 24, 26, 28, 30, 32, 34, 36, 38, 40, 42, 44, 46, 48, 50]\n",
      "[4, 16, 36, 64, 100]\n",
      "[8, 64, 216, 512, 1000]\n"
     ]
    }
   ],
   "source": [
    "# Advanced List Stuff\n",
    "# Building complex lists\n",
    "evens_to_50 = [i for i in range(51) if i % 2 == 0]\n",
    "print evens_to_50\n",
    "# List Comprehension\n",
    "even_squares = [x**2 for x in range(1,12) if x % 2 == 0]   # list comprehension syntax, making a list of even squares from 1 to 11\n",
    "print even_squares\n",
    "cubes_by_four = [x**3 for x in range(1,11) if x**3 % 4 == 0] # another one\n",
    "print cubes_by_four"
   ]
  },
  {
   "cell_type": "code",
   "execution_count": 25,
   "metadata": {
    "collapsed": false
   },
   "outputs": [
    {
     "name": "stdout",
     "output_type": "stream",
     "text": [
      "[9, 25, 49, 81]\n",
      "[1, 3, 5, 7, 9]\n",
      "[100, 90, 80, 70, 60, 50, 40, 30, 20, 10, 0]\n"
     ]
    }
   ],
   "source": [
    "# list slicing\n",
    "l = [i ** 2 for i in range(1, 11)] # simple example of list slicing\n",
    "print l[2:9:2]\n",
    "my_list = range(1, 11) \n",
    "print my_list[::2] # print all odd value, default stride 1, default ending index is end of list 11 in this case, default starting index is 0\n",
    "my_list = range(1, 11)\n",
    "backwards = my_list[::-1] # reverses my_list\n",
    "to_one_hundred = range(101) # another one\n",
    "backwards_by_tens = to_one_hundred[::-10]\n",
    "print backwards_by_tens\n",
    "to_21 = range(1,22)\n",
    "odds = to_21[::2]\n",
    "middle_third = to_21[7:14:1] #8 to 14 in increments of 1"
   ]
  },
  {
   "cell_type": "code",
   "execution_count": null,
   "metadata": {
    "collapsed": true
   },
   "outputs": [],
   "source": [
    "# lambdas\n",
    "print filter(lambda x: x % 3 == 0, my_list) # filters out all elements in my_list not divisible by 3 (an example of anonymous functions) lambda is used to figure out what to filter and my_list is the medium for the filtering\n",
    "languages = [\"HTML\", \"JavaScript\", \"Python\", \"Ruby\"]\n",
    "print filter(lambda x: x == \"Python\" , languages) # filters out list and picks out Python from list of languages\n",
    "squares = [x**2 for x in range(1,11)]    # another example of filtering using anonymous function\n",
    "print(filter(lambda x: x >= 30 and x <= 70, squares)) "
   ]
  }
 ],
 "metadata": {
  "kernelspec": {
   "display_name": "Python 2 (SageMath)",
   "language": "python",
   "name": "python2"
  },
  "language_info": {
   "codemirror_mode": {
    "name": "ipython",
    "version": 2
   },
   "file_extension": ".py",
   "mimetype": "text/x-python",
   "name": "python",
   "nbconvert_exporter": "python",
   "pygments_lexer": "ipython2",
   "version": "2.7.10"
  }
 },
 "nbformat": 4,
 "nbformat_minor": 0
}
