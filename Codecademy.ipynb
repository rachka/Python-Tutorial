{
 "cells": [
  {
   "cell_type": "code",
   "execution_count": null,
   "metadata": {
    "collapsed": false
   },
   "outputs": [],
   "source": [
    "# class grading script example\n",
    "lloyd = {\n",
    "    \"name\": \"Lloyd\",\n",
    "    \"homework\": [90.0, 97.0, 75.0, 92.0],\n",
    "    \"quizzes\": [88.0, 40.0, 94.0],\n",
    "    \"tests\": [75.0, 90.0]\n",
    "}\n",
    "alice = {\n",
    "    \"name\": \"Alice\",\n",
    "    \"homework\": [100.0, 92.0, 98.0, 100.0],\n",
    "    \"quizzes\": [82.0, 83.0, 91.0],\n",
    "    \"tests\": [89.0, 97.0]\n",
    "}\n",
    "tyler = {\n",
    "    \"name\": \"Tyler\",\n",
    "    \"homework\": [0.0, 87.0, 75.0, 22.0],\n",
    "    \"quizzes\": [0.0, 75.0, 78.0],\n",
    "    \"tests\": [100.0, 100.0]\n",
    "}\n",
    "\n",
    "# Add your function below!\n",
    "def average(numbers):\n",
    "    total = sum(numbers)\n",
    "    total = float(total)\n",
    "    return total / len(numbers)\n",
    "\n",
    "def get_average(student):\n",
    "    homework = average(student[\"homework\"])\n",
    "    quizzes = average(student[\"quizzes\"])\n",
    "    tests = average(student[\"tests\"])\n",
    "    return (0.10 * homework + 0.30 * quizzes + 0.60 * tests)\n",
    "    \n",
    "def get_letter_grade(score):\n",
    "    if score >= 90:\n",
    "        return \"A\"\n",
    "    elif score >= 80:\n",
    "        return \"B\"\n",
    "    elif score >= 70:\n",
    "        return \"C\"\n",
    "    elif score >= 60:\n",
    "        return \"D\"\n",
    "    else:\n",
    "        return \"F\"\n",
    "\n",
    "def get_class_average(students):\n",
    "    results = []\n",
    "    for student in students:\n",
    "        results.append(get_average(student))\n",
    "    return average(results)\n",
    "\n",
    "students = [lloyd, alice, tyler]\n",
    "print get_class_average(students)\n",
    "print get_letter_grade(get_class_average(students))"
   ]
  },
  {
   "cell_type": "code",
   "execution_count": null,
   "metadata": {
    "collapsed": false
   },
   "outputs": [],
   "source": [
    "# Flattening out a list\n",
    "n = [[1, 2, 3], [4, 5, 6, 7, 8, 9]]\n",
    "# Add your function here\n",
    "def flatten(lists):\n",
    "    results = []\n",
    "    for i in range(len(lists)):\n",
    "        for j in range(len(lists[i])):\n",
    "            results.append(lists[i][j])\n",
    "    return results\n",
    "print flatten(n)"
   ]
  },
  {
   "cell_type": "code",
   "execution_count": null,
   "metadata": {
    "collapsed": false
   },
   "outputs": [],
   "source": [
    "# Battleship Script\n",
    "-"
   ]
  },
  {
   "cell_type": "code",
   "execution_count": null,
   "metadata": {
    "collapsed": false
   },
   "outputs": [],
   "source": [
    "from random import randint\n",
    "\n",
    "# Generates a number from 1 through 10 inclusive\n",
    "random_number = randint(1, 10)\n",
    "\n",
    "guesses_left = 3\n",
    "# Start your game!\n",
    "while guesses_left > 0:\n",
    "    guess = int(raw_input(\"Your guess: \"))\n",
    "    \n",
    "    if random_number == guess:\n",
    "        print 'You win'\n",
    "        break\n",
    "    guesses_left -= 1\n",
    "else:\n",
    "    print 'You lose'"
   ]
  },
  {
   "cell_type": "code",
   "execution_count": null,
   "metadata": {
    "collapsed": false
   },
   "outputs": [],
   "source": [
    "# replacing characters\n",
    "phrase = \"A bird in the hand...\"\n",
    "\n",
    "# Add your for loop\n",
    "for char in phrase:\n",
    "    if char == \"A\" or char == \"a\":\n",
    "        print 'X',\n",
    "    else: \n",
    "        print char,\n",
    "\n",
    "#Don't delete this print statement!\n",
    "print"
   ]
  },
  {
   "cell_type": "code",
   "execution_count": null,
   "metadata": {
    "collapsed": false
   },
   "outputs": [],
   "source": [
    "# another for loop\n",
    "numbers  = [7, 9, 12, 54, 99]\n",
    "\n",
    "print \"This list contains: \"\n",
    "\n",
    "for num in numbers:\n",
    "    print num\n",
    "\n",
    "# Add your loop below!\n",
    "for num in numbers:\n",
    "    print num ** 2"
   ]
  },
  {
   "cell_type": "code",
   "execution_count": null,
   "metadata": {
    "collapsed": false
   },
   "outputs": [],
   "source": [
    "# Looping over a dictionary\n",
    "d = {'a': 'apple', 'b': 'berry', 'c': 'cherry'}\n",
    "\n",
    "for key in d:\n",
    "    # Your code here!\n",
    "    print key, d[key]"
   ]
  },
  {
   "cell_type": "code",
   "execution_count": null,
   "metadata": {
    "collapsed": false
   },
   "outputs": [],
   "source": [
    "# counting as you go via enumerate()\n",
    "choices = ['pizza', 'pasta', 'salad', 'nachos']\n",
    "\n",
    "print 'Your choices are:'\n",
    "for index, item in enumerate(choices):\n",
    "    print int(index) + 1, item"
   ]
  },
  {
   "cell_type": "code",
   "execution_count": null,
   "metadata": {
    "collapsed": false
   },
   "outputs": [],
   "source": [
    "# compare elements of two lists and pick out the larger value\n",
    "list_a = [3, 9, 17, 15, 19]\n",
    "list_b = [2, 4, 8, 10, 30, 40, 50, 60, 70, 80, 90]\n",
    "\n",
    "for a, b in zip(list_a, list_b):\n",
    "    if a > b:\n",
    "        print a\n",
    "    else:  \n",
    "        print b"
   ]
  },
  {
   "cell_type": "code",
   "execution_count": null,
   "metadata": {
    "collapsed": false
   },
   "outputs": [],
   "source": [
    "# break stops else from being executed (and the fruit after tomato)\n",
    "fruits = ['banana', 'apple', 'orange', 'tomato', 'pear', 'grape']\n",
    "\n",
    "print 'You have...'\n",
    "for f in fruits:\n",
    "    if f == 'tomato':\n",
    "        print 'A tomato is not a fruit!' # (It actually is.)\n",
    "        break\n",
    "    print 'A', f\n",
    "else:\n",
    "    print 'A fine selection of fruits!'"
   ]
  },
  {
   "cell_type": "code",
   "execution_count": null,
   "metadata": {
    "collapsed": false
   },
   "outputs": [],
   "source": [
    "# another for/else example\n",
    "food = ['potatoes','salad','freedom fries']\n",
    "print 'Let\\'s see. What do we have?...'\n",
    "for i in food:\n",
    "    print i\n",
    "    if i == 'salad':\n",
    "        print \"Ew, salad is too healthy! I'm outta here!\"\n",
    "        break\n",
    "else:\n",
    "    print \"Oh what fine cuisine for a feast, I say.\""
   ]
  },
  {
   "cell_type": "code",
   "execution_count": null,
   "metadata": {
    "collapsed": true
   },
   "outputs": [],
   "source": [
    "# Advanced Topics in Python"
   ]
  },
  {
   "cell_type": "code",
   "execution_count": null,
   "metadata": {
    "collapsed": false
   },
   "outputs": [],
   "source": [
    "# dictionary iteration\n",
    "my_dict = {\n",
    "    \"Name\": \"Guido\",\n",
    "    \"Age\": 56,\n",
    "    \"Gender\": \"Male\"\n",
    "}\n",
    "print my_dict.items() # returns an array of tuples\n",
    "print my_dict.keys() # returns list of keys\n",
    "print my_dict.values() # returns list of values\n",
    "for key in my_dict:  # prints each key value pair separately neatly\n",
    "    print key, my_dict[key]"
   ]
  },
  {
   "cell_type": "code",
   "execution_count": null,
   "metadata": {
    "collapsed": false
   },
   "outputs": [],
   "source": [
    "# Advanced List Stuff\n",
    "# Building complex lists\n",
    "evens_to_50 = [i for i in range(51) if i % 2 == 0]\n",
    "print evens_to_50\n",
    "# List Comprehension\n",
    "even_squares = [x**2 for x in range(1,12) if x % 2 == 0]   # list comprehension syntax, making a list of even squares from 1 to 11\n",
    "print even_squares\n",
    "cubes_by_four = [x**3 for x in range(1,11) if x**3 % 4 == 0] # another one\n",
    "print cubes_by_four"
   ]
  },
  {
   "cell_type": "code",
   "execution_count": 1,
   "metadata": {
    "collapsed": false
   },
   "outputs": [
    {
     "name": "stdout",
     "output_type": "stream",
     "text": [
      "[9, 25, 49, 81]\n",
      "[1, 3, 5, 7, 9]\n",
      "[100, 90, 80, 70, 60, 50, 40, 30, 20, 10, 0]\n",
      "[3, 6, 9]\n",
      "['Python']\n",
      "[36, 49, 64]\n"
     ]
    }
   ],
   "source": [
    "# list slicing\n",
    "l = [i ** 2 for i in range(1, 11)] # simple example of list slicing\n",
    "print l[2:9:2]\n",
    "my_list = range(1, 11) \n",
    "print my_list[::2] # print all odd value, default stride 1, default ending index is end of list 11 in this case, default starting index is 0\n",
    "my_list = range(1, 11)\n",
    "backwards = my_list[::-1] # reverses my_list\n",
    "to_one_hundred = range(101) # another one\n",
    "backwards_by_tens = to_one_hundred[::-10]\n",
    "print backwards_by_tens\n",
    "to_21 = range(1,22)\n",
    "odds = to_21[::2]\n",
    "middle_third = to_21[7:14:1] #8 to 14 in increments of 1\n"
   ]
  },
  {
   "cell_type": "code",
   "execution_count": 2,
   "metadata": {
    "collapsed": false
   },
   "outputs": [
    {
     "name": "stdout",
     "output_type": "stream",
     "text": [
      "[3, 6, 9]\n",
      "['Python']\n",
      "[36, 49, 64]\n"
     ]
    }
   ],
   "source": [
    "# lambdas\n",
    "print filter(lambda x: x % 3 == 0, my_list) # filters out all elements in my_list not divisible by 3 (an example of anonymous functions) lambda is used to figure out what to filter and my_list is the medium for the filtering\n",
    "languages = [\"HTML\", \"JavaScript\", \"Python\", \"Ruby\"]\n",
    "print filter(lambda x: x == \"Python\" , languages) # filters out list and picks out Python from list of languages\n",
    "squares = [x**2 for x in range(1,11)]    # another example of filtering using anonymous function\n",
    "print(filter(lambda x: x >= 30 and x <= 70, squares)) "
   ]
  },
  {
   "cell_type": "code",
   "execution_count": 4,
   "metadata": {
    "collapsed": false
   },
   "outputs": [
    {
     "name": "stdout",
     "output_type": "stream",
     "text": [
      "0\n",
      "10\n",
      "0\n",
      "13\n",
      "38\n",
      "-89\n"
     ]
    }
   ],
   "source": [
    "# examples of bitwise operators\n",
    "print 5 >> 4  # Right Shift\n",
    "print 5 << 1  # Left Shift\n",
    "print 8 & 5   # Bitwise AND\n",
    "print 9 | 4   # Bitwise OR\n",
    "print 12 ^ 42 # Bitwise XOR\n",
    "print ~88     # Bitwise NOT"
   ]
  },
  {
   "cell_type": "code",
   "execution_count": 7,
   "metadata": {
    "collapsed": false
   },
   "outputs": [
    {
     "name": "stdout",
     "output_type": "stream",
     "text": [
      "1 2 3 4 5 6 7\n",
      "******\n",
      "4\n",
      "0b1\n",
      "0b10\n",
      "0b11\n",
      "0b100\n",
      "0b101\n",
      "05\n",
      "0x5\n",
      "1\n",
      "2\n",
      "7\n",
      "4\n",
      "5\n",
      "201\n"
     ]
    }
   ],
   "source": [
    "# binary representation\n",
    "print 0b1,    #1  # use 0b to go from binary to decimal\n",
    "print 0b10,   #2\n",
    "print 0b11,   #3\n",
    "print 0b100,  #4\n",
    "print 0b101,  #5\n",
    "print 0b110,  #6\n",
    "print 0b111   #7\n",
    "print \"******\"\n",
    "print 0b1 + 0b11 # 1 + 3\n",
    "# right most is 1 next 2 next 4 so on, 1 is 'on' and 0 if 'off'\n",
    "print bin(1) # go other way\n",
    "print bin(2)\n",
    "print bin(3)\n",
    "print bin(4)\n",
    "print bin(5)\n",
    "print oct(5) # base 8 number\n",
    "print hex(5) # base 16 number\n",
    "print int(\"1\",2) # gives base 10 number  of bin number 1, designated by second parameter 2 for binary number (generally int returns number from string)\n",
    "print int(\"10\",2)\n",
    "print int(\"111\",2)\n",
    "print int(\"0b100\",2)\n",
    "print int(bin(5),2)\n",
    "# Print out the decimal equivalent of the binary 11001001.\n",
    "print int(\"11001001\",2)"
   ]
  },
  {
   "cell_type": "code",
   "execution_count": 12,
   "metadata": {
    "collapsed": false
   },
   "outputs": [
    {
     "name": "stdout",
     "output_type": "stream",
     "text": [
      "0b11\n",
      "0b100\n",
      "0b100\n",
      "0b1111\n",
      "0b1011\n",
      "-2\n",
      "-3\n",
      "-4\n",
      "-43\n",
      "-124\n"
     ]
    }
   ],
   "source": [
    "# Bitwise Operators\n",
    "shift_right = 0b1100\n",
    "shift_left = 0b1\n",
    "shift_right = shift_right >> 2 # floor divide by 2 twice\n",
    "shift_left = shift_left << 2 # multiply by 2 twice\n",
    "print bin(shift_right)\n",
    "print bin(shift_left)\n",
    "print bin(0b1110 & 0b101) # AND operator: makes the output have 1 wherever BOTH of the inputs have 1 and 0 everywhere else\n",
    "print bin(0b1110 | 0b101) # OR operator: makes the output have 0 only if BOTH inputs have 0, 1 everywhere else. Note: if one bin number doesnt have 8's place but other has a 1 in the 8's place, the output will have an 8's place 1\n",
    "print bin(0b1110 ^ 0b101) # exclusive or operator: makes the output 1 if only one of inputs has 1, if both 0 or both 1 then output has 0\n",
    "print ~1 # NOT operator: flips all the bits in the number (essentially makes number negative if positive and positive if negative and then subtracts one)\n",
    "print ~2\n",
    "print ~3\n",
    "print ~42\n",
    "print ~123"
   ]
  },
  {
   "cell_type": "code",
   "execution_count": 13,
   "metadata": {
    "collapsed": false
   },
   "outputs": [
    {
     "name": "stdout",
     "output_type": "stream",
     "text": [
      "0b10111111\n",
      "0b10001\n"
     ]
    }
   ],
   "source": [
    "# More bitwise operators\n",
    "def check_bit4(input):    # use of a mask to check if input's 4th bit is on exploiting the AND bit operator\n",
    "    mask = 0b1000\n",
    "    desired = input & mask\n",
    "    if desired > 0:\n",
    "        return \"on\"\n",
    "    else:\n",
    "        return \"off\"\n",
    "#\n",
    "a = 0b10111011    # using | and mask to turn on specified bit (make 1 regardless of its value)\n",
    "mask = 0b100\n",
    "desired = a | mask\n",
    "print bin(desired)\n",
    "#\n",
    "a = 0b11101110   # using ^ and mask to flip the value of all bits (if on make off, if off make on)\n",
    "mask = 0b11111111\n",
    "desired = a ^ mask\n",
    "print bin(desired)\n",
    "# \n",
    "def flip_bit(numbers,n):   # function for flipping nth bit in numbers\n",
    "    mask = (0b1 << (n-1))\n",
    "    result = numbers ^ mask\n",
    "    return bin(result) "
   ]
  },
  {
   "cell_type": "code",
   "execution_count": 15,
   "metadata": {
    "collapsed": false
   },
   "outputs": [
    {
     "name": "stdout",
     "output_type": "stream",
     "text": [
      "I'm a yellow lemon and I taste sour.\n",
      "Yep! I'm edible.\n",
      "Jeffrey\n",
      "Jeffrey 2 True\n",
      "Bruce 1 False\n",
      "Chad 7 True\n",
      "Jeffrey 2 True\n",
      "Bruce 1 True\n",
      "Chad 7 True\n",
      "I'm Ser Reginald and I am 5 years old.\n",
      "good\n",
      "good\n",
      "good\n",
      "Apple added.\n"
     ]
    }
   ],
   "source": [
    "# Intro to classes and object-oriented programming\n",
    "# A class is just a way of organizing and producing objects with similar attributes and methods.\n",
    "# example of fruit class and creation of a lemon instance\n",
    "class Fruit(object):\n",
    "    \"\"\"A class that makes various tasty fruits.\"\"\"\n",
    "    def __init__(self, name, color, flavor, poisonous):\n",
    "        self.name = name\n",
    "        self.color = color\n",
    "        self.flavor = flavor\n",
    "        self.poisonous = poisonous\n",
    "\n",
    "    def description(self):\n",
    "        print \"I'm a %s %s and I taste %s.\" % (self.color, self.name, self.flavor)\n",
    "\n",
    "    def is_edible(self):\n",
    "        if not self.poisonous:\n",
    "            print \"Yep! I'm edible.\"\n",
    "        else:\n",
    "            print \"Don't eat me! I am super poisonous.\"\n",
    "\n",
    "lemon = Fruit(\"lemon\", \"yellow\", \"sour\", False)\n",
    "\n",
    "lemon.description()\n",
    "lemon.is_edible()\n",
    "#\n",
    "class Animal(object):  # defining a class\n",
    "    pass               # instance of using pass where python expects there to be input useful for working in early code creation stages\n",
    "#\n",
    "class Animal(object):\n",
    "    def __init__(self): # __init__ function is used to initialize the objects that the class creates, always takes at least 'self' (not required that it is called 'self' but that is convention) as an argument\n",
    "        pass\n",
    "#\n",
    "class Animal(object):\n",
    "    def __init__(self,name):\n",
    "        self.name = name # let's the function know that name is the name of the object it is creating\n",
    "#\n",
    "class Animal(object):\n",
    "    def __init__(self,name):\n",
    "        self.name = name\n",
    "\n",
    "zebra = Animal(\"Jeffrey\") # create (or instantiate) zebra 'object' in Animal class using string \"Jeffrey\" and returning the name of the zebra\n",
    "print zebra.name\n",
    "#\n",
    "# Class definition\n",
    "class Animal(object):\n",
    "    \"\"\"Makes cute animals.\"\"\"\n",
    "    # For initializing our instance objects\n",
    "    def __init__(self, name, age, is_hungry):\n",
    "        self.name = name\n",
    "        self.age = age\n",
    "        self.is_hungry = is_hungry\n",
    "\n",
    "# Note that self is only used in the __init__() function definition; we don't need to pass it to our instance objects.\n",
    "\n",
    "zebra = Animal(\"Jeffrey\", 2, True)\n",
    "giraffe = Animal(\"Bruce\", 1, False)\n",
    "panda = Animal(\"Chad\", 7, True)\n",
    "\n",
    "print zebra.name, zebra.age, zebra.is_hungry\n",
    "print giraffe.name, giraffe.age, giraffe.is_hungry\n",
    "print panda.name, panda.age, panda.is_hungry\n",
    "#\n",
    "class Animal(object):\n",
    "    \"\"\"Makes cute animals.\"\"\"\n",
    "    is_alive = True   # class scope: applies to all objects in class\n",
    "    def __init__(self, name, age):\n",
    "        self.name = name\n",
    "        self.age = age\n",
    "\n",
    "zebra = Animal(\"Jeffrey\", 2)\n",
    "giraffe = Animal(\"Bruce\", 1)\n",
    "panda = Animal(\"Chad\", 7)\n",
    "\n",
    "print zebra.name, zebra.age, zebra.is_alive\n",
    "print giraffe.name, giraffe.age, giraffe.is_alive\n",
    "print panda.name, panda.age, panda.is_alive\n",
    "# note: methods are a classes own functions (such as __init__ but you can also make more)\n",
    "#\n",
    "class Animal(object):\n",
    "    \"\"\"Makes cute animals.\"\"\"\n",
    "    is_alive = True\n",
    "    def __init__(self, name, age):\n",
    "        self.name = name\n",
    "        self.age = age\n",
    "    # Using my own method besides the initializing method\n",
    "    def description(self):\n",
    "        print \"I'm %s and I am %s years old.\" % (self.name, self.age)\n",
    "\n",
    "hippo = Animal(\"Ser Reginald\", \"5\")\n",
    "hippo.description()\n",
    "#\n",
    "class Animal(object):\n",
    "    \"\"\"Makes cute animals.\"\"\"\n",
    "    is_alive = True\n",
    "    health = \"good\"\n",
    "    def __init__(self, name, age):\n",
    "        self.name = name\n",
    "        self.age = age\n",
    "    # Add your method here!\n",
    "    def description(self):\n",
    "        print self.name\n",
    "        print self.age\n",
    "\n",
    "hippo = Animal(\"Ser Reginald\", \"5\")\n",
    "sloth = Animal(\"Harry\", \"13\")\n",
    "ocelot = Animal(\"POTTTTEEERRRR\", \"1\")\n",
    "print hippo.health\n",
    "print ocelot.health\n",
    "print sloth.health\n",
    "#\n",
    "class ShoppingCart(object):\n",
    "    \"\"\"Creates shopping cart objects\n",
    "    for users of our fine website.\"\"\"\n",
    "    items_in_cart = {}\n",
    "    def __init__(self, customer_name):\n",
    "        self.customer_name = customer_name\n",
    "\n",
    "    def add_item(self, product, price):\n",
    "        \"\"\"Add product to the cart.\"\"\"\n",
    "        if not product in self.items_in_cart:\n",
    "            self.items_in_cart[product] = price\n",
    "            print product + \" added.\"\n",
    "        else:\n",
    "            print product + \" is already in the cart.\"\n",
    "\n",
    "    def remove_item(self, product):\n",
    "        \"\"\"Remove product from the cart.\"\"\"\n",
    "        if product in self.items_in_cart:\n",
    "            del self.items_in_cart[product]\n",
    "            print product + \" removed.\"\n",
    "        else:\n",
    "            print product + \" is not in the cart.\"\n",
    "\n",
    "my_cart = ShoppingCart(\"Freddy\") # create Freddy's shopping cart\n",
    "my_cart.add_item(\"Apple\", 45) # add apple costing 45 dolla to Freddy's cart"
   ]
  },
  {
   "cell_type": "code",
   "execution_count": 18,
   "metadata": {
    "collapsed": false
   },
   "outputs": [
    {
     "name": "stdout",
     "output_type": "stream",
     "text": [
      "I'm a string that stands in for the contents of your shopping cart!\n",
      "I'm a string that stands in for your order history!\n",
      "200.0\n"
     ]
    }
   ],
   "source": [
    "# inheritance and classes\n",
    "class Customer(object):                                       # example of inheritance with ReturningCustomer class getting methods from the Customer class\n",
    "    \"\"\"Produces objects that represent customers.\"\"\"\n",
    "    def __init__(self, customer_id):\n",
    "        self.customer_id = customer_id\n",
    "\n",
    "    def display_cart(self):\n",
    "        print \"I'm a string that stands in for the contents of your shopping cart!\"\n",
    "\n",
    "class ReturningCustomer(Customer):\n",
    "    \"\"\"For customers of the repeat variety.\"\"\"\n",
    "    def display_order_history(self):\n",
    "        print \"I'm a string that stands in for your order history!\"\n",
    "\n",
    "monty_python = ReturningCustomer(\"ID: 12345\")\n",
    "monty_python.display_cart()\n",
    "monty_python.display_order_history()\n",
    "#\n",
    "class Shape(object):         # my own example of inheritance\n",
    "    \"\"\"Makes shapes!\"\"\"\n",
    "    def __init__(self, number_of_sides):\n",
    "        self.number_of_sides = number_of_sides\n",
    "\n",
    "# Add your Triangle class below!\n",
    "class Triangle(Shape):\n",
    "    def __init__(self, side1, side2, side3):\n",
    "        self.side1 = side1\n",
    "        self.side2 = side2\n",
    "        self.side3 = side3\n",
    "#\n",
    "class Employee(object):                # when inheritance overrides\n",
    "    \"\"\"Models real-life employees!\"\"\"\n",
    "    def __init__(self, employee_name):\n",
    "        self.employee_name = employee_name\n",
    "\n",
    "    def calculate_wage(self, hours):\n",
    "        self.hours = hours\n",
    "        return hours * 20.00\n",
    "\n",
    "# Add your code below!\n",
    "class PartTimeEmployee(Employee):\n",
    "    def calculate_wage(self, hours):\n",
    "        self.hours = hours # still need to redefine second method argument as you are completely overwritting the method calculate_wage in the Employee class\n",
    "        return hours * 12.00\n",
    "#\n",
    "class Employee(object):\n",
    "    \"\"\"Models real-life employees!\"\"\"\n",
    "    def __init__(self, employee_name):\n",
    "        self.employee_name = employee_name\n",
    "\n",
    "    def calculate_wage(self, hours):\n",
    "        self.hours = hours\n",
    "        return hours * 20.00\n",
    "\n",
    "# Add your code below!\n",
    "class PartTimeEmployee(Employee):\n",
    "    def calculate_wage(self, hours):\n",
    "        self.hours = hours\n",
    "        return hours * 12.00\n",
    "    def full_time_wage(self, hours):\n",
    "        return super(PartTimeEmployee, self).calculate_wage(hours) # use the method of the super class or parent class rather than the subclass\n",
    "\n",
    "milton = PartTimeEmployee(\"Milton\")\n",
    "print milton.full_time_wage(10)"
   ]
  },
  {
   "cell_type": "code",
   "execution_count": 23,
   "metadata": {
    "collapsed": false
   },
   "outputs": [
    {
     "name": "stdout",
     "output_type": "stream",
     "text": [
      "3\n",
      "True\n"
     ]
    }
   ],
   "source": [
    "# My own class\n",
    "class Triangle(object):\n",
    "    number_of_sides = 3  # member variable\n",
    "    def __init__(self, angle1, angle2, angle3):\n",
    "        self.angle1 = angle1\n",
    "        self.angle2 = angle2\n",
    "        self.angle3 = angle3\n",
    "    def check_angles(self):  # method to class to check if triangle\n",
    "        if self.angle1 + self.angle2 + self.angle3 == 180:\n",
    "            return True\n",
    "        else:\n",
    "            return False\n",
    "\n",
    "class Equilateral(Triangle):   # inheritance subclass of equilaterals which are indeed a subclass/subtype of triangles\n",
    "    angle = 60\n",
    "    def __init__(self):\n",
    "        self.angle1 = self.angle\n",
    "        self.angle2 = self.angle\n",
    "        self.angle3 = self.angle\n",
    "\n",
    "my_triangle = Triangle(90, 30, 60) # instantiate object\n",
    "print my_triangle.number_of_sides # check its properties via the class variables and methods created\n",
    "print my_triangle.check_angles()"
   ]
  },
  {
   "cell_type": "code",
   "execution_count": 25,
   "metadata": {
    "collapsed": false
   },
   "outputs": [
    {
     "name": "stdout",
     "output_type": "stream",
     "text": [
      "1\n",
      "4\n",
      "9\n",
      "16\n",
      "25\n",
      "36\n",
      "49\n",
      "64\n",
      "81\n",
      "100\n",
      "\n"
     ]
    }
   ],
   "source": [
    "# File Input/Output\n",
    "my_list = [i**2 for i in range(1,11)]\n",
    "# Generates a list of squares of the numbers 1 - 10\n",
    "\n",
    "f = open(\"output.txt\", \"w\") # write to output.txt with \"w\"\n",
    "\n",
    "for item in my_list:\n",
    "    f.write(str(item) + \"\\n\")\n",
    "\n",
    "f.close()\n",
    "# generate an output.txt file with the contents of my_list\n",
    "#\n",
    "my_list = [i**2 for i in range(1,11)]\n",
    "\n",
    "my_file = open(\"output.txt\", \"r+\") # r+ allows reading and writing\n",
    "\n",
    "# Add your code below!\n",
    "# writing each element of my_list on its own line in output.txt\n",
    "for item in my_list:\n",
    "    my_file.write(str(item) + \"\\n\") # add \\n for new line and str() to make string so .write accepts item\n",
    "\n",
    "my_file.close() # close file to write properly at the end of the writing\n",
    "#\n",
    "my_file = open(\"output.txt\",\"r\") # how to read and import data from a text file\n",
    "print my_file.read()\n",
    "my_file.close()"
   ]
  },
  {
   "cell_type": "code",
   "execution_count": 37,
   "metadata": {
    "collapsed": false
   },
   "outputs": [
    {
     "name": "stdout",
     "output_type": "stream",
     "text": [
      "Not closing files is VERY BAD.\n",
      "\n",
      "\n",
      "Not closing files is VERY BAD.\n",
      "Success!\n"
     ]
    }
   ],
   "source": [
    "# More details on File input/output\n",
    "my_file = open(\"output.txt\",\"r\")\n",
    "print my_file.readline() # import all but only print certain lines of the text file\n",
    "print my_file.readline()\n",
    "print my_file.readline()\n",
    "my_file.close()   # VERY important to close the file once done as the data is buffered (held in a temporary place) until the close command is executed\n",
    "# \n",
    "# Open the file for reading\n",
    "read_file = open(\"output.txt\", \"r\")\n",
    "\n",
    "# Use a second file handler to open the file for writing\n",
    "write_file = open(\"output.txt\", \"w\")\n",
    "# Write to the file\n",
    "write_file.write(\"Not closing files is VERY BAD.\")\n",
    "\n",
    "write_file.close()\n",
    "\n",
    "# Try to read from the file\n",
    "print read_file.read()\n",
    "# How to automatically close files\n",
    "with open(\"text.txt\", \"w\") as textfile: # with as allows automatic execution of __exit__()\n",
    "\ttextfile.write(\"Success!\")\n",
    "# a check that it worked\n",
    "read_file = open(\"text.txt\", \"r\")\n",
    "print read_file.read()\n",
    "read_file.close()\n",
    "# my example of automatically closing files after writing on them\n",
    "with open(\"text.txt\", \"w\") as my_file: # with as allows automatic execution of __exit__()\n",
    "    my_file.write(\"Harry Potter!\")\n",
    "#\n",
    "# check to make sure file is closed\n",
    "with open(\"text.txt\", \"w\") as my_file: # with as allows automatic execution of __exit__()\n",
    "    my_file.write(\"Harry Potter!\")\n",
    "    if my_file.closed == False:\n",
    "        my_file.close()\n",
    "\n",
    "print my_file.closed"
   ]
  },
  {
   "cell_type": "code",
   "execution_count": null,
   "metadata": {
    "collapsed": true
   },
   "outputs": [],
   "source": []
  }
 ],
 "metadata": {
  "kernelspec": {
   "display_name": "Python 2 (SageMath)",
   "language": "python",
   "name": "python2"
  },
  "language_info": {
   "codemirror_mode": {
    "name": "ipython",
    "version": 2
   },
   "file_extension": ".py",
   "mimetype": "text/x-python",
   "name": "python",
   "nbconvert_exporter": "python",
   "pygments_lexer": "ipython2",
   "version": "2.7.10"
  }
 },
 "nbformat": 4,
 "nbformat_minor": 0
}
