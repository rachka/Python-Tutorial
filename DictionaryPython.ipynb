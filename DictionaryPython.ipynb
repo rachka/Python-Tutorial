{
 "cells": [
  {
   "cell_type": "code",
   "execution_count": 2,
   "metadata": {
    "collapsed": false
   },
   "outputs": [
    {
     "name": "stdout",
     "output_type": "stream",
     "text": [
      "{'jack': 1337, 'irv': 4127, 'guido': 4127}\n"
     ]
    },
    {
     "data": {
      "text/plain": [
       "True"
      ]
     },
     "execution_count": 2,
     "metadata": {},
     "output_type": "execute_result"
    }
   ],
   "source": [
    "# Example\n",
    "tel = {'jack':4098, 'sape':4139}\n",
    "tel['guido'] = 4127 # add key:value pair to dictionary tel\n",
    "tel\n",
    "tel['jack'] = 1337\n",
    "tel['jack'] # print value of key 'jack'\n",
    "del tel['sape'] # remove key 'sape' from dictionary\n",
    "tel ['irv'] = 4127  # two different keys can have same value\n",
    "print tel\n",
    "tel.keys() # list keys of tel\n",
    "'guido' in tel # checking for membership\n",
    "# dict() constructor\n",
    "#dict([('sape', 4139), ('guido', 4127), ('jack', 4098)]) # build dict from sequence of provided key-value pairs"
   ]
  },
  {
   "cell_type": "code",
   "execution_count": null,
   "metadata": {
    "collapsed": true
   },
   "outputs": [],
   "source": []
  }
 ],
 "metadata": {
  "kernelspec": {
   "display_name": "Python 2 (SageMath)",
   "language": "python",
   "name": "python2"
  },
  "language_info": {
   "codemirror_mode": {
    "name": "ipython",
    "version": 2
   },
   "file_extension": ".py",
   "mimetype": "text/x-python",
   "name": "python",
   "nbconvert_exporter": "python",
   "pygments_lexer": "ipython2",
   "version": "2.7.10"
  }
 },
 "nbformat": 4,
 "nbformat_minor": 0
}
