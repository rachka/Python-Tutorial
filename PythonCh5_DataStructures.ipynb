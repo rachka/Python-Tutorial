{
 "cells": [
  {
   "cell_type": "code",
   "execution_count": 1,
   "metadata": {
    "collapsed": false
   },
   "outputs": [],
   "source": [
    "# Installment Number 3 of the Python Tutorial\n",
    "# This tutorial will focus on Data Structures in Python"
   ]
  },
  {
   "cell_type": "code",
   "execution_count": 14,
   "metadata": {
    "collapsed": false
   },
   "outputs": [
    {
     "name": "stdout",
     "output_type": "stream",
     "text": [
      "2 1 0\n"
     ]
    },
    {
     "data": {
      "text/plain": [
       "1234.5"
      ]
     },
     "execution_count": 14,
     "metadata": {},
     "output_type": "execute_result"
    }
   ],
   "source": [
    "# 5.1 More on Lists\n",
    "# list.append(x) Add an item to end of list; equivalent to a[len(a):] = [x]\n",
    "# list.extend(L) Extend the list by appending all the items in the given list; equivalent to a[len(a):] = L\n",
    "# list.insert(i, x) Insert an item at a given position. The first argument is the index of the element before which to insert, so a.insert(0, x) inserts at the front of the list, \n",
    "# and a.insert(len(a), x) is equivalent to a.append(x).\n",
    "# list.remove(x) Remove the first item from the list whose value is x. It is an error if there is no such item. \n",
    "# list.pop([i]) Remove the item at the given position in the list, and return it. If no index is specified, a.pop() removes and returns the last item in the list.\n",
    "# list.index(x) Return the index in the list of the first item whose value is x. It is an error if there is no such item.\n",
    "# list.count(x) Return the number of times x appears in the list.\n",
    "# list.sort(cmp=None, key=None, reverse=False) Sort the items of the list in place (the arguments can be used for sort customization, see sorted())\n",
    "# list.reverse() Reverse the elements of the list, in place\n",
    "\n",
    "#Examples\n",
    "a = [66.25, 333, 333, 1, 1234.5]\n",
    "print a.count(333), a.count(66.25), a.count('x')\n",
    "a.insert(2, -1)\n",
    "a.append(333)\n",
    "a.index(333)\n",
    "a.remove(333)\n",
    "a.reverse()\n",
    "a.sort() # in ascending order\n",
    "a.pop() # essentially remove but specify the indexed position of what is being deleted and returns the value deleted"
   ]
  },
  {
   "cell_type": "code",
   "execution_count": 15,
   "metadata": {
    "collapsed": false
   },
   "outputs": [
    {
     "data": {
      "text/plain": [
       "[3, 4]"
      ]
     },
     "execution_count": 15,
     "metadata": {},
     "output_type": "execute_result"
    }
   ],
   "source": [
    "# 5.1.1 Lists as Stacks\n",
    "stack = [3, 4, 5]\n",
    "stack.append(6)\n",
    "stack.append(7)\n",
    "stack.pop()\n",
    "stack\n",
    "stack.pop()\n",
    "stack.pop()\n",
    "stack\n",
    "# last element added is first removed (last in first out) using list.pop()"
   ]
  },
  {
   "cell_type": "code",
   "execution_count": 19,
   "metadata": {
    "collapsed": false
   },
   "outputs": [
    {
     "data": {
      "text/plain": [
       "'Eric'"
      ]
     },
     "execution_count": 19,
     "metadata": {},
     "output_type": "execute_result"
    }
   ],
   "source": [
    "# 5.1.2 Lists as Queues\n",
    "from collections import deque  # designed to have fast appends and pops from both ends\n",
    "queue = deque([\"Eric\", \"John\", \"Michael\"])\n",
    "queue.append(\"Terry\")           # Terry arrives\n",
    "queue.append(\"Graham\")          # Graham arrives\n",
    "queue.popleft()                 # The first to arrive now leaves\n",
    "#queue.popleft()                 # The second to arrive now leaves\n",
    "#queue                           # Remaining queue in order of arrival\n",
    "# not as efficient generally as stacks as shifting of all values occurs when you pop the left"
   ]
  },
  {
   "cell_type": "code",
   "execution_count": 23,
   "metadata": {
    "collapsed": false
   },
   "outputs": [
    {
     "data": {
      "text/plain": [
       "[3, 5, 6, 9, 10, 12, 15, 18, 20, 21, 24]"
      ]
     },
     "execution_count": 23,
     "metadata": {},
     "output_type": "execute_result"
    }
   ],
   "source": [
    "# 5.1.3 Functional Programming Tools\n",
    "# three built-in tools for lists: filter (), map(), and reduce ()\n",
    "\n",
    "# filter(function,sequence) returns a sequeence for which function(item) is true \n",
    "# example computing sequence of numbers divisible by 3 or 5:\n",
    "def f(x): return x % 3 == 0 or x % 5 == 0\n",
    "filter(f, range(2, 25))"
   ]
  },
  {
   "cell_type": "code",
   "execution_count": null,
   "metadata": {
    "collapsed": true
   },
   "outputs": [],
   "source": [
    "# 5.1.3 cont. map()\n",
    "map(function, sequence) calls function(item)"
   ]
  }
 ],
 "metadata": {
  "kernelspec": {
   "display_name": "Python 2 (SageMath)",
   "language": "python",
   "name": "python2"
  },
  "language_info": {
   "codemirror_mode": {
    "name": "ipython",
    "version": 2
   },
   "file_extension": ".py",
   "mimetype": "text/x-python",
   "name": "python",
   "nbconvert_exporter": "python",
   "pygments_lexer": "ipython2",
   "version": "2.7.10"
  }
 },
 "nbformat": 4,
 "nbformat_minor": 0
}
