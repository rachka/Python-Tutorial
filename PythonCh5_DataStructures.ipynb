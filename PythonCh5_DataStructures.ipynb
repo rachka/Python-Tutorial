{
 "cells": [
  {
   "cell_type": "code",
   "execution_count": 1,
   "metadata": {
    "collapsed": false
   },
   "outputs": [],
   "source": [
    "# Installment Number 3 of the Python Tutorial\n",
    "# This tutorial will focus on Data Structures in Python"
   ]
  },
  {
   "cell_type": "code",
   "execution_count": 14,
   "metadata": {
    "collapsed": false
   },
   "outputs": [
    {
     "name": "stdout",
     "output_type": "stream",
     "text": [
      "2 1 0\n"
     ]
    },
    {
     "data": {
      "text/plain": [
       "1234.5"
      ]
     },
     "execution_count": 14,
     "metadata": {},
     "output_type": "execute_result"
    }
   ],
   "source": [
    "# 5.1 More on Lists\n",
    "# list.append(x) Add an item to end of list; equivalent to a[len(a):] = [x]\n",
    "# list.extend(L) Extend the list by appending all the items in the given list; equivalent to a[len(a):] = L\n",
    "# list.insert(i, x) Insert an item at a given position. The first argument is the index of the element before which to insert, so a.insert(0, x) inserts at the front of the list, \n",
    "# and a.insert(len(a), x) is equivalent to a.append(x).\n",
    "# list.remove(x) Remove the first item from the list whose value is x. It is an error if there is no such item. \n",
    "# list.pop([i]) Remove the item at the given position in the list, and return it. If no index is specified, a.pop() removes and returns the last item in the list.\n",
    "# list.index(x) Return the index in the list of the first item whose value is x. It is an error if there is no such item.\n",
    "# list.count(x) Return the number of times x appears in the list.\n",
    "# list.sort(cmp=None, key=None, reverse=False) Sort the items of the list in place (the arguments can be used for sort customization, see sorted())\n",
    "# list.reverse() Reverse the elements of the list, in place\n",
    "\n",
    "#Examples\n",
    "a = [66.25, 333, 333, 1, 1234.5]\n",
    "print a.count(333), a.count(66.25), a.count('x')\n",
    "a.insert(2, -1)\n",
    "a.append(333)\n",
    "a.index(333)\n",
    "a.remove(333)\n",
    "a.reverse()\n",
    "a.sort() # in ascending order\n",
    "a.pop() # essentially remove but specify the indexed position of what is being deleted and returns the value deleted"
   ]
  },
  {
   "cell_type": "code",
   "execution_count": 15,
   "metadata": {
    "collapsed": false
   },
   "outputs": [
    {
     "data": {
      "text/plain": [
       "[3, 4]"
      ]
     },
     "execution_count": 15,
     "metadata": {},
     "output_type": "execute_result"
    }
   ],
   "source": [
    "# 5.1.1 Lists as Stacks\n",
    "stack = [3, 4, 5]\n",
    "stack.append(6)\n",
    "stack.append(7)\n",
    "stack.pop()\n",
    "stack\n",
    "stack.pop()\n",
    "stack.pop()\n",
    "stack\n",
    "# last element added is first removed (last in first out) using list.pop()"
   ]
  },
  {
   "cell_type": "code",
   "execution_count": 19,
   "metadata": {
    "collapsed": false
   },
   "outputs": [
    {
     "data": {
      "text/plain": [
       "'Eric'"
      ]
     },
     "execution_count": 19,
     "metadata": {},
     "output_type": "execute_result"
    }
   ],
   "source": [
    "# 5.1.2 Lists as Queues\n",
    "from collections import deque  # designed to have fast appends and pops from both ends\n",
    "queue = deque([\"Eric\", \"John\", \"Michael\"])\n",
    "queue.append(\"Terry\")           # Terry arrives\n",
    "queue.append(\"Graham\")          # Graham arrives\n",
    "queue.popleft()                 # The first to arrive now leaves\n",
    "#queue.popleft()                 # The second to arrive now leaves\n",
    "#queue                           # Remaining queue in order of arrival\n",
    "# not as efficient generally as stacks as shifting of all values occurs when you pop the left"
   ]
  },
  {
   "cell_type": "code",
   "execution_count": 23,
   "metadata": {
    "collapsed": false
   },
   "outputs": [
    {
     "data": {
      "text/plain": [
       "[3, 5, 6, 9, 10, 12, 15, 18, 20, 21, 24]"
      ]
     },
     "execution_count": 23,
     "metadata": {},
     "output_type": "execute_result"
    }
   ],
   "source": [
    "# 5.1.3 Functional Programming Tools\n",
    "# three built-in tools for lists: filter (), map(), and reduce ()\n",
    "\n",
    "# filter(function,sequence) returns a sequeence for which function(item) is true \n",
    "# example computing sequence of numbers divisible by 3 or 5:\n",
    "def f(x): return x % 3 == 0 or x % 5 == 0\n",
    "filter(f, range(2, 25))"
   ]
  },
  {
   "cell_type": "code",
   "execution_count": 25,
   "metadata": {
    "collapsed": false
   },
   "outputs": [
    {
     "data": {
      "text/plain": [
       "[0, 2, 4, 6, 8, 10, 12, 14]"
      ]
     },
     "execution_count": 25,
     "metadata": {},
     "output_type": "execute_result"
    }
   ],
   "source": [
    "# 5.1.3 cont. map()\n",
    "# map(function, sequence) calls function(item) for each of sequence's items and returns list of return values. See below for cubes example.\n",
    "def cube(x): return x*x*x\n",
    "map(cube, range(1,11))\n",
    "# more than one sequence may be passed; the function must the have as many arguments as there are sequences and is called with the corresponding item for each sequence, E.g.:\n",
    "seq = range(8)\n",
    "def add(x, y): return x+y\n",
    "map(add, seq, seq)"
   ]
  },
  {
   "cell_type": "code",
   "execution_count": 28,
   "metadata": {
    "collapsed": false
   },
   "outputs": [
    {
     "data": {
      "text/plain": [
       "0"
      ]
     },
     "execution_count": 28,
     "metadata": {},
     "output_type": "execute_result"
    }
   ],
   "source": [
    "# 5.1.3 cont. reduce()\n",
    "# reduce(function,sequence) returns a single value constructed by calling the binary function on the first two items of the sequence, then on the result and next item, etc. E.g. sum of 1 through 10\n",
    "def add(x,y): return x+y\n",
    "reduce(add, range(1,11))\n",
    "# a third argument can be passed to indicate the starting value. In this case the starting value is returned for an empty sequence and the function is first applied to the starting value and first sequence iterm, then\n",
    "# to the result and the next item and so on. E.g.:\n",
    "def sum(seq):\n",
    "    def add(x,y): return x+y\n",
    "    return reduce(add, seq, 0)\n",
    "\n",
    "sum(range(1,11))\n",
    "sum([])\n",
    "# note: sum(sequence) function already built in so don't need to use this example just to find sums"
   ]
  },
  {
   "cell_type": "code",
   "execution_count": 35,
   "metadata": {
    "collapsed": false
   },
   "outputs": [
    {
     "data": {
      "text/plain": [
       "[(1, 3), (1, 4), (2, 3), (2, 1), (2, 4), (3, 1), (3, 4)]"
      ]
     },
     "execution_count": 35,
     "metadata": {},
     "output_type": "execute_result"
    }
   ],
   "source": [
    "# 5.1.4 List Comprehensions\n",
    "# concise way to create lists, for example to make new lists where each element is result of some operations applied to each member of another sequence or iterable, or to create a subsequence of those elements that \n",
    "# a certain condition\n",
    "squares = []  # this example makes a list of squares \n",
    "for x in range(10):\n",
    "    squares.append(x**2)\n",
    "squares\n",
    "# alternatively\n",
    "squares = [x**2 for x in range(10)] # or\n",
    "squares = map(lambda x: x**2, range(10)) # but this is less concise\n",
    "#\n",
    "[(x, y) for x in [1,2,3] for y in [3,1,4] if x != y] # this is equivalent to ...\n",
    "combs = []\n",
    "for x in [1,2,3]:\n",
    "    for y in [3,1,4]:\n",
    "        if x != y:\n",
    "            combs.append((x,y))\n",
    "combs\n",
    "# note same order of 'for' 'for' 'if'"
   ]
  },
  {
   "cell_type": "code",
   "execution_count": 46,
   "metadata": {
    "collapsed": false
   },
   "outputs": [
    {
     "data": {
      "text/plain": [
       "[1, 2, 3, 4, 5, 6, 7, 8, 9]"
      ]
     },
     "execution_count": 46,
     "metadata": {},
     "output_type": "execute_result"
    }
   ],
   "source": [
    "# More 5.1.4\n",
    "from math import pi   # different round offs for the value of pi\n",
    "[str(round(pi, i)) for i in range(1, 6)]\n",
    "# misc.\n",
    "vec = [-4, -2, 0, 2, 4]\n",
    "# new list with values doubled\n",
    "[x*2 for x in vec]\n",
    "# filter to exclude negative entries\n",
    "[x for x in vec if x >=0]\n",
    "# apply a function to all the elements\n",
    "[abs(x) for x in vec]\n",
    "# call a method on each element\n",
    "freshfruit = ['banana', 'loganberry', 'passion fruit']\n",
    "# create a list f 2-tuples like (number, square)\n",
    "[(x,x**2) for x in range(6)]  # the tuple must be paranthesized, otherwise an error is raised\n",
    "vec = [[1,2,3], [4,5,6], [7,8,9]]  # flatten a list using listcomp with two 'for'\n",
    "[num for elem in vec for num in elem]"
   ]
  },
  {
   "cell_type": "code",
   "execution_count": 52,
   "metadata": {
    "collapsed": false
   },
   "outputs": [
    {
     "data": {
      "text/plain": [
       "[(1, 5, 9), (2, 6, 10), (3, 7, 11), (4, 8, 12)]"
      ]
     },
     "execution_count": 52,
     "metadata": {},
     "output_type": "execute_result"
    }
   ],
   "source": [
    "# 5.1.4.1 Nested List Comprehensions\n",
    "# Initial expression in list comprehension can be an arbitrary expression, including another list comprehension, E.g.\n",
    "matrix = [\n",
    "    [1, 2, 3, 4],\n",
    "    [5, 6, 7, 8],\n",
    "    [9, 10, 11, 12],\n",
    "]\n",
    "matrix\n",
    "[[row[i] for row in matrix] for i in range(4)] # list comprehension that transposes\n",
    "# equivalent to:\n",
    "transposed = []\n",
    "for i in range(4):\n",
    "    transposed.append([row[i] for row in matrix])\n",
    "transposed\n",
    "# equivalent to:\n",
    "transposed = []\n",
    "for i in range(4):\n",
    "    # the following 3 lines implement the nested listcomp\n",
    "    transposed_row = []\n",
    "    for row in matrix:\n",
    "        transposed_row.append(row[i])\n",
    "    transposed.append(transposed_row)\n",
    "transposed\n",
    "# in real world use built-in functions for complex flow statements\n",
    "zip(*matrix)"
   ]
  },
  {
   "cell_type": "code",
   "execution_count": 59,
   "metadata": {
    "collapsed": false
   },
   "outputs": [],
   "source": [
    "# 5.2 del statement\n",
    "a = [-1, 1, 66.25, 333, 333, 1234.5]\n",
    "del a[0] # delete 1st element of a\n",
    "del a[2:4] # delete elements 3 through 5 of a\n",
    "a\n",
    "# delete entire variables\n",
    "del a"
   ]
  },
  {
   "cell_type": "code",
   "execution_count": 68,
   "metadata": {
    "collapsed": false
   },
   "outputs": [
    {
     "data": {
      "text/plain": [
       "12345"
      ]
     },
     "execution_count": 68,
     "metadata": {},
     "output_type": "execute_result"
    }
   ],
   "source": [
    "# 5.3 Tuples and Sequences\n",
    "# Lists and strings have many common properties such a indexing and slicing operations. These are sequence data types. Another sequence data type is tuples\n",
    "# A tuple consists of a number of values separated by commas:\n",
    "t = 12345, 54321, 'hello!'\n",
    "t[0]\n",
    "t\n",
    "# Tuples may be nested: \n",
    "u = t, (1,2,3,4,5)\n",
    "u\n",
    "# Tuples are immutable:\n",
    "#t[0] = 88888\n",
    "# but they can contain mutable objects\n",
    "v = ([1, 2, 3],[3, 2, 1])\n",
    "# lists homogenous and mutable whereas tuples are immutable and heterogeneous in their sequence of elements\n",
    "empty = ()\n",
    "singleton = 'hello', # trailing comma used for 1 item tuples, not sufficient to enclose in parantheses\n",
    "singleton\n",
    "# tuple packing:\n",
    "t = 12345, 54321, 'hello!' # example of packing together in tuple\n",
    "x, y, z = t # reverse operation (unpacking if you will)\n",
    "x"
   ]
  },
  {
   "cell_type": "code",
   "execution_count": 72,
   "metadata": {
    "collapsed": false
   },
   "outputs": [
    {
     "data": {
      "text/plain": [
       "{'d', 'r'}"
      ]
     },
     "execution_count": 72,
     "metadata": {},
     "output_type": "execute_result"
    }
   ],
   "source": [
    "# 5.4 Sets\n",
    "# Another data type is sets; a set is an unordered collection with no duplicate elements; uses include membership testing and eliminating duplicate entries; set objects support mathematical operations like union\n",
    "# intersection, difference, and symmetric difference\n",
    "# use set() function to create sets; note () not {}\n",
    "basket = ['apple', 'orange', 'apple', 'pear', 'orange', 'banana']\n",
    "fruit = set(basket)\n",
    "fruit\n",
    "# checking for membership\n",
    "'orange' in fruit # returns true\n",
    "'crabgrass' in fruit # returns false\n",
    "\n",
    "# Demonstrate set operations on unique letters from two words\n",
    "\n",
    "a = set('abracadabra')\n",
    "b = set('alacazam')\n",
    "a                                  # unique letters in a\n",
    "a - b                              # letters in a but not in b\n",
    "a | b                              # letters in either a or b\n",
    "a & b                              # letters in both a and b\n",
    "a ^ b                              # letters in a or b but not both\n",
    "\n",
    "# Set Comprehensions supported in addition to list comprehensions\n",
    "a = {x for x in 'abracadabra' if x not in 'abc'}\n",
    "a"
   ]
  },
  {
   "cell_type": "code",
   "execution_count": 87,
   "metadata": {
    "collapsed": false
   },
   "outputs": [
    {
     "data": {
      "text/plain": [
       "{'guido': 4127, 'jack': 4098, 'sape': 4139}"
      ]
     },
     "execution_count": 87,
     "metadata": {},
     "output_type": "execute_result"
    }
   ],
   "source": [
    "# 5.5 Dictionaries\n",
    "# Another useful data type is the dictionary. Dictionaries indexed by keys, which can be any immutable type such as strings or numbers. Tuples can be keys only if they contain strings, numbers, or other tuples. If\n",
    "# a tuple contains any mutable object it cannot be used as a key. Lists cannot be keys.\n",
    "# Think of dictionaries as unordered set of key: value pairs with requirement that keys are unique; {} creates empty dictionary\n",
    "# Main operations are storing a value with some key and extracting the value given the key. can use del to delete key:value pair. \n",
    "# Example\n",
    "tel = {'jack':4098, 'sape':4139}\n",
    "tel['guido'] = 4127 # add key:value pair to dictionary tel\n",
    "tel\n",
    "tel['jack'] # print value of key 'jack'\n",
    "del tel['sape'] # remove key 'sape' from dictionary\n",
    "tel ['irv'] = 4127  # two different keys can have same value\n",
    "tel\n",
    "tel.keys() # list keys of tel\n",
    "'guido' in tel # checking for membership\n",
    "# dict() constructor\n",
    "dict([('sape', 4139), ('guido', 4127), ('jack', 4098)]) # build dict from sequence of provided key-value pairs\n",
    "# dict comprehensions\n",
    "{x: x**2 for x in (2,4,6)} # defining values for certain keys using comprehensions\n",
    "dict(sape=4139, guido=4127, jack=4098) # when keys are simple strings specify pairs with keyword arguments"
   ]
  },
  {
   "cell_type": "code",
   "execution_count": null,
   "metadata": {
    "collapsed": true
   },
   "outputs": [],
   "source": [
    "# 5.6 Looping Techniques"
   ]
  }
 ],
 "metadata": {
  "kernelspec": {
   "display_name": "Python 2 (SageMath)",
   "language": "python",
   "name": "python2"
  },
  "language_info": {
   "codemirror_mode": {
    "name": "ipython",
    "version": 2
   },
   "file_extension": ".py",
   "mimetype": "text/x-python",
   "name": "python",
   "nbconvert_exporter": "python",
   "pygments_lexer": "ipython2",
   "version": "2.7.10"
  }
 },
 "nbformat": 4,
 "nbformat_minor": 0
}
