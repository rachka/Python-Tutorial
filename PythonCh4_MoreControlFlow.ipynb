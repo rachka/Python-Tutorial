{
 "cells": [
  {
   "cell_type": "code",
   "execution_count": 1,
   "metadata": {
    "collapsed": false
   },
   "outputs": [],
   "source": [
    "# Installment Number 2 of the Python Tutorial\n",
    "# This tutorial will focus on Control Flow Tools in Python"
   ]
  },
  {
   "cell_type": "code",
   "execution_count": 8,
   "metadata": {
    "collapsed": false
   },
   "outputs": [
    {
     "name": "stdout",
     "output_type": "stream",
     "text": [
      "More\n"
     ]
    }
   ],
   "source": [
    "# 4.1 if statements\n",
    "x = 42\n",
    "if x < 0:\n",
    "    x = 0\n",
    "    print 'Negative changed to zero'\n",
    "elif x == 0:\n",
    "    print 'Zero'\n",
    "elif x == 1: \n",
    "    print 'Single'\n",
    "else:\n",
    "    print 'More'"
   ]
  },
  {
   "cell_type": "code",
   "execution_count": 11,
   "metadata": {
    "collapsed": false
   },
   "outputs": [
    {
     "name": "stdout",
     "output_type": "stream",
     "text": [
      "cat 3\n",
      "window 6\n",
      "defenestrate 12\n",
      "mutilate 8\n"
     ]
    }
   ],
   "source": [
    "# 4.2 for statements\n",
    "# iterates over the items of any sequence (list or string) in the order they appear in the sequence\n",
    "words = ['cat','window','defenestrate','mutilate']\n",
    "for w in words:\n",
    "    print w, len(w)"
   ]
  },
  {
   "cell_type": "code",
   "execution_count": 12,
   "metadata": {
    "collapsed": false
   },
   "outputs": [
    {
     "data": {
      "text/plain": [
       "['mutilate', 'defenestrate', 'cat', 'window', 'defenestrate', 'mutilate']"
      ]
     },
     "execution_count": 12,
     "metadata": {},
     "output_type": "execute_result"
    }
   ],
   "source": [
    "# 4.2 cont. modifying sequence you are iterating while inside loop (duplicating select items)\n",
    "for w in words[:]: # loop over a slice copy of the entire list (iterating over sequences does not implicitly make a copy)\n",
    "    if len(w) > 6:\n",
    "        words.insert(0,w) # last words in list with over 6 characters become first at end of for loop \n",
    "words"
   ]
  },
  {
   "cell_type": "code",
   "execution_count": 2,
   "metadata": {
    "collapsed": false
   },
   "outputs": [
    {
     "name": "stdout",
     "output_type": "stream",
     "text": [
      "[1, 2, 3, 4, 5, 6, 7, 8, 9]\n",
      "0 Mary\n",
      "1 had\n",
      "2 a\n",
      "3 little\n",
      "4 lamb\n"
     ]
    }
   ],
   "source": [
    "# 4.3 range() function\n",
    "range(1,10) # for iterating over sequence of numbers, arithmetic progressions up to n-1 value (9) starting at 0 by default and left number if 2 or 3 numbers specified\n",
    "range(5,10) # 5 to 10 increments of 1 to n-1 value (9)\n",
    "range(0,10,3) # 0 to 3 increments of 3, last value is highest multiple of 3 under 10\n",
    "range(-10,-100,-30) # going backwards\n",
    "# use in iteration\n",
    "a = ['Mary','had','a','little','lamb']\n",
    "for i in range(len(a)):\n",
    "    print i, a[i]\n",
    "# see enumerate function (section 5.6) for more on looping"
   ]
  },
  {
   "cell_type": "code",
   "execution_count": 23,
   "metadata": {
    "collapsed": false
   },
   "outputs": [
    {
     "name": "stdout",
     "output_type": "stream",
     "text": [
      "2 is a prime number\n",
      "3 is a prime number\n",
      "4 equals 2 * 2\n",
      "5 is a prime number\n",
      "6 equals 2 * 3\n",
      "7 is a prime number\n",
      "8 equals 2 * 4\n",
      "9 equals 3 * 3\n"
     ]
    }
   ],
   "source": [
    "# 4.4 break and continue and else clauses\n",
    "# else is executed when loop terminates through exhaustion of list (with for) or when the condition becomes false (with while) but it is not executed when break is used\n",
    "for n in range(2,10):\n",
    "    for x in range(2,n):\n",
    "        if n % x == 0:        # % gives the remainder of n/x\n",
    "            print n, 'equals', x, '*', n/x\n",
    "            break             # belongs to the second for loop\n",
    "    else:                     # runs when no break occurs\n",
    "        # loop didn't find a factor\n",
    "        print n, 'is a prime number'"
   ]
  },
  {
   "cell_type": "code",
   "execution_count": 22,
   "metadata": {
    "collapsed": false
   },
   "outputs": [
    {
     "name": "stdout",
     "output_type": "stream",
     "text": [
      "Found an even number 2\n",
      "Found a number 3\n",
      "Found an even number 4\n",
      "Found a number 5\n",
      "Found an even number 6\n",
      "Found a number 7\n",
      "Found an even number 8\n",
      "Found a number 9\n"
     ]
    }
   ],
   "source": [
    "# 4.4 cont. continue statement\n",
    "for num in range(2,10):\n",
    "    if num % 2 == 0:\n",
    "        print \"Found an even number\", num\n",
    "        continue   # continue with the next iteration of the loop\n",
    "    print \"Found a number\", num"
   ]
  },
  {
   "cell_type": "code",
   "execution_count": 25,
   "metadata": {
    "collapsed": false
   },
   "outputs": [
    {
     "ename": "KeyboardInterrupt",
     "evalue": "",
     "output_type": "error",
     "traceback": [
      "\u001b[1;31m---------------------------------------------------------------------------\u001b[0m",
      "\u001b[1;31mKeyboardInterrupt\u001b[0m                         Traceback (most recent call last)",
      "\u001b[1;32m<ipython-input-25-9cfa564087c6>\u001b[0m in \u001b[0;36m<module>\u001b[1;34m()\u001b[0m\n\u001b[0;32m      1\u001b[0m \u001b[1;31m# 4.5 pass statements\u001b[0m\u001b[1;33m\u001b[0m\u001b[1;33m\u001b[0m\u001b[0m\n\u001b[0;32m      2\u001b[0m \u001b[1;31m# used when statement is required syntactically but program requires no action\u001b[0m\u001b[1;33m\u001b[0m\u001b[1;33m\u001b[0m\u001b[0m\n\u001b[1;32m----> 3\u001b[1;33m \u001b[1;32mwhile\u001b[0m \u001b[0mTrue\u001b[0m\u001b[1;33m:\u001b[0m\u001b[1;33m\u001b[0m\u001b[0m\n\u001b[0m\u001b[0;32m      4\u001b[0m     \u001b[1;32mpass\u001b[0m \u001b[1;31m# Busy-wait for keyboard interrupt (Ctrl-C)\u001b[0m\u001b[1;33m\u001b[0m\u001b[0m\n\u001b[0;32m      5\u001b[0m \u001b[1;32mclass\u001b[0m \u001b[0mMyEmptyClass\u001b[0m\u001b[1;33m:\u001b[0m \u001b[1;31m#creating minimal classes\u001b[0m\u001b[1;33m\u001b[0m\u001b[0m\n",
      "\u001b[1;31mKeyboardInterrupt\u001b[0m: "
     ]
    }
   ],
   "source": [
    "# 4.5 pass statements\n",
    "# used when statement is required syntactically but program requires no action\n",
    "while True:\n",
    "    pass # Busy-wait for keyboard interrupt (Ctrl-C)\n",
    "class MyEmptyClass: #creating minimal classes\n",
    "    pass\n",
    "def initlog(*args):\n",
    "    pass # acts as a place-holder for a function or conditional body when working on new code allowing you to work at a more abstract level"
   ]
  },
  {
   "cell_type": "code",
   "execution_count": 27,
   "metadata": {
    "collapsed": false
   },
   "outputs": [
    {
     "name": "stdout",
     "output_type": "stream",
     "text": [
      "0 1 1 2 3 5 8 13 21 34 55 89 144 233 377 610 987 1597\n"
     ]
    }
   ],
   "source": [
    "# 4.6 Defining Functions\n",
    "# function that writes the Fibonacci series to arbitrary boundary\n",
    "def fib(n): # write Fibonacci series up to n # function definition\n",
    "    \"\"\"Print a Fibonacci series up to n.\"\"\" # documentation string\n",
    "    a, b = 0, 1\n",
    "    while a < n:\n",
    "        print a,\n",
    "        a, b = b, a+b\n",
    "        \n",
    "fib(2000) #calling the above defined function"
   ]
  },
  {
   "cell_type": "code",
   "execution_count": 36,
   "metadata": {
    "collapsed": false
   },
   "outputs": [
    {
     "data": {
      "text/plain": [
       "[0, 1, 1, 2, 3, 5, 8, 13, 21, 34, 55, 89]"
      ]
     },
     "execution_count": 36,
     "metadata": {},
     "output_type": "execute_result"
    }
   ],
   "source": [
    "# 4.6 cont.\n",
    "fib\n",
    "f=fib\n",
    "#f(100) # note fib is a procedure not a function\n",
    "fib(0)\n",
    "#print fib(0) # normally suppressed by interpreter unless print is used\n",
    "# writing a function that returns list instead of printing series of numbers (Fibonacci series again)\n",
    "def fib2(n): # return the Fibonacci series up to n.\n",
    "    \"\"\"Return a list containing the Fibonacci series up to n.\"\"\"\n",
    "    result = []\n",
    "    a, b = 0, 1\n",
    "    while a < n:\n",
    "        result.append(a)   # more efficient result = result + [a] # calls method of list object result # append() adds new element at end of list\n",
    "        a, b = b, a+b\n",
    "    return result  # returns with a value from a function\n",
    "f100 = fib2(100) # call function\n",
    "f100 # write list"
   ]
  },
  {
   "cell_type": "code",
   "execution_count": 38,
   "metadata": {
    "collapsed": true
   },
   "outputs": [],
   "source": [
    "# 4.7 More on defining functions"
   ]
  },
  {
   "cell_type": "code",
   "execution_count": 37,
   "metadata": {
    "collapsed": true
   },
   "outputs": [],
   "source": [
    "# 4.8 Intermezzo: Coding Style\n",
    "# 4 space indentation, no tabs\n",
    "# wrap lines so as to not exceed 79 characters\n",
    "# use blank lines to separate functions and classes, and larger blocks of code inside functions\n",
    "# put comments on line of their own if possible\n",
    "# use doc strings\n",
    "# use spaces around operators and after commas but not directly inside bracketing constructs e.g a = f(1, 2) + g(3, 4)\n",
    "# name classes and functions consistently, use CamelCase for classes and lower_case_with_underscores for functions and methods. Always use self for the first method argument.\n",
    "# Plain ASCII works best in any case"
   ]
  }
 ],
 "metadata": {
  "kernelspec": {
   "display_name": "Python 2 (SageMath)",
   "language": "python",
   "name": "python2"
  },
  "language_info": {
   "codemirror_mode": {
    "name": "ipython",
    "version": 2
   },
   "file_extension": ".py",
   "mimetype": "text/x-python",
   "name": "python",
   "nbconvert_exporter": "python",
   "pygments_lexer": "ipython2",
   "version": "2.7.10"
  }
 },
 "nbformat": 4,
 "nbformat_minor": 0
}
